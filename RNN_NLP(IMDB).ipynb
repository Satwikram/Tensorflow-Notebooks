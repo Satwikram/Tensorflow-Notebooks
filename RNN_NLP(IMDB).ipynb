{
  "nbformat": 4,
  "nbformat_minor": 0,
  "metadata": {
    "colab": {
      "name": "RNN-NLP(IMDB).ipynb",
      "provenance": [],
      "authorship_tag": "ABX9TyPX6sWasOTj3sZ1MI23F255",
      "include_colab_link": true
    },
    "kernelspec": {
      "name": "python3",
      "display_name": "Python 3"
    },
    "accelerator": "TPU"
  },
  "cells": [
    {
      "cell_type": "markdown",
      "metadata": {
        "id": "view-in-github",
        "colab_type": "text"
      },
      "source": [
        "<a href=\"https://colab.research.google.com/github/Satwikram/Tensorflow-Notebooks/blob/master/RNN_NLP(IMDB).ipynb\" target=\"_parent\"><img src=\"https://colab.research.google.com/assets/colab-badge.svg\" alt=\"Open In Colab\"/></a>"
      ]
    },
    {
      "cell_type": "code",
      "metadata": {
        "id": "R9Sg8uPy9Sop",
        "colab_type": "code",
        "colab": {}
      },
      "source": [
        "import tensorflow as tf\n",
        "from tensorflow.keras.datasets import imdb"
      ],
      "execution_count": 0,
      "outputs": []
    },
    {
      "cell_type": "code",
      "metadata": {
        "id": "vzhZ0RKk9nc3",
        "colab_type": "code",
        "colab": {
          "base_uri": "https://localhost:8080/",
          "height": 34
        },
        "outputId": "14830c59-e677-4123-a92d-a1327add349d"
      },
      "source": [
        "tf.__version__"
      ],
      "execution_count": 11,
      "outputs": [
        {
          "output_type": "execute_result",
          "data": {
            "text/plain": [
              "'2.2.0-rc2'"
            ]
          },
          "metadata": {
            "tags": []
          },
          "execution_count": 11
        }
      ]
    },
    {
      "cell_type": "markdown",
      "metadata": {
        "id": "6sIlkkdH95yj",
        "colab_type": "text"
      },
      "source": [
        "IMDB Review"
      ]
    },
    {
      "cell_type": "markdown",
      "metadata": {
        "id": "8j0iBqtQ-F4z",
        "colab_type": "text"
      },
      "source": [
        "Setting up the data\n"
      ]
    },
    {
      "cell_type": "code",
      "metadata": {
        "id": "c_sL476A94Ul",
        "colab_type": "code",
        "colab": {}
      },
      "source": [
        "num_words = 20000\n",
        "max_len = 100"
      ],
      "execution_count": 0,
      "outputs": []
    },
    {
      "cell_type": "markdown",
      "metadata": {
        "id": "xWyI2dZa-kPh",
        "colab_type": "text"
      },
      "source": [
        "Loading the data"
      ]
    },
    {
      "cell_type": "code",
      "metadata": {
        "id": "2Vt9IysY9pca",
        "colab_type": "code",
        "colab": {}
      },
      "source": [
        "(x_train, y_train), (x_test, y_test) = imdb.load_data(num_words = num_words)"
      ],
      "execution_count": 0,
      "outputs": []
    },
    {
      "cell_type": "markdown",
      "metadata": {
        "id": "wRJfecsi_QEK",
        "colab_type": "text"
      },
      "source": [
        "Padding all the data Sequences"
      ]
    },
    {
      "cell_type": "code",
      "metadata": {
        "id": "hjHtDN_A_HLt",
        "colab_type": "code",
        "colab": {}
      },
      "source": [
        "x_train = tf.keras.preprocessing.sequence.pad_sequences(x_train, maxlen = max_len)"
      ],
      "execution_count": 0,
      "outputs": []
    },
    {
      "cell_type": "code",
      "metadata": {
        "id": "96Sz1XqYACI5",
        "colab_type": "code",
        "colab": {}
      },
      "source": [
        "x_test = tf.keras.preprocessing.sequence.pad_sequences(x_test, maxlen = max_len)"
      ],
      "execution_count": 0,
      "outputs": []
    },
    {
      "cell_type": "code",
      "metadata": {
        "id": "s2sBHhWjCzff",
        "colab_type": "code",
        "colab": {
          "base_uri": "https://localhost:8080/",
          "height": 34
        },
        "outputId": "4777085f-6640-4587-f8cf-0350d54f80c0"
      },
      "source": [
        "x_train.shape[1:]"
      ],
      "execution_count": 25,
      "outputs": [
        {
          "output_type": "execute_result",
          "data": {
            "text/plain": [
              "(100,)"
            ]
          },
          "metadata": {
            "tags": []
          },
          "execution_count": 25
        }
      ]
    },
    {
      "cell_type": "markdown",
      "metadata": {
        "id": "_3swb0jzBHlN",
        "colab_type": "text"
      },
      "source": [
        "Building the RNN"
      ]
    },
    {
      "cell_type": "code",
      "metadata": {
        "id": "U6GGAiiRBE9R",
        "colab_type": "code",
        "colab": {}
      },
      "source": [
        "model = tf.keras.Sequential()"
      ],
      "execution_count": 0,
      "outputs": []
    },
    {
      "cell_type": "markdown",
      "metadata": {
        "id": "w8G3ONMlByAN",
        "colab_type": "text"
      },
      "source": [
        "Adding Embedding Layer"
      ]
    },
    {
      "cell_type": "code",
      "metadata": {
        "id": "r3RGg0NJBKvx",
        "colab_type": "code",
        "colab": {}
      },
      "source": [
        "model.add(tf.keras.layers.Embedding(input_dim = num_words, output_dim = 128, input_shape = x_train.shape[1:]))"
      ],
      "execution_count": 0,
      "outputs": []
    },
    {
      "cell_type": "markdown",
      "metadata": {
        "id": "HGudlkmRDa2P",
        "colab_type": "text"
      },
      "source": [
        "Adding LSTM Layer"
      ]
    },
    {
      "cell_type": "code",
      "metadata": {
        "id": "gBXTXM4pCeHa",
        "colab_type": "code",
        "colab": {}
      },
      "source": [
        "model.add(tf.keras.layers.LSTM(units = 128))"
      ],
      "execution_count": 0,
      "outputs": []
    },
    {
      "cell_type": "code",
      "metadata": {
        "id": "0hm5jiNODpIU",
        "colab_type": "code",
        "colab": {}
      },
      "source": [
        "model.add(tf.keras.layers.Dense(units = 1, activation = 'sigmoid'))"
      ],
      "execution_count": 0,
      "outputs": []
    },
    {
      "cell_type": "markdown",
      "metadata": {
        "id": "ar0z5EdSF0nC",
        "colab_type": "text"
      },
      "source": [
        "Compiling the model\n"
      ]
    },
    {
      "cell_type": "code",
      "metadata": {
        "id": "yJtf-tfDFoPI",
        "colab_type": "code",
        "colab": {}
      },
      "source": [
        "model.compile(optimizer = 'rmsprop', loss = 'binary_crossentropy', metrics = ['accuracy'])"
      ],
      "execution_count": 0,
      "outputs": []
    },
    {
      "cell_type": "code",
      "metadata": {
        "id": "eJe9TpW1GEHO",
        "colab_type": "code",
        "colab": {
          "base_uri": "https://localhost:8080/",
          "height": 255
        },
        "outputId": "db7208f1-672a-41de-d6c5-817ecd1db4ac"
      },
      "source": [
        "model.summary()"
      ],
      "execution_count": 34,
      "outputs": [
        {
          "output_type": "stream",
          "text": [
            "Model: \"sequential_1\"\n",
            "_________________________________________________________________\n",
            "Layer (type)                 Output Shape              Param #   \n",
            "=================================================================\n",
            "embedding_2 (Embedding)      (None, 100, 128)          2560000   \n",
            "_________________________________________________________________\n",
            "lstm_2 (LSTM)                (None, 128)               131584    \n",
            "_________________________________________________________________\n",
            "dense (Dense)                (None, 1)                 129       \n",
            "=================================================================\n",
            "Total params: 2,691,713\n",
            "Trainable params: 2,691,713\n",
            "Non-trainable params: 0\n",
            "_________________________________________________________________\n"
          ],
          "name": "stdout"
        }
      ]
    },
    {
      "cell_type": "code",
      "metadata": {
        "id": "I9NpMsA6GU_P",
        "colab_type": "code",
        "colab": {
          "base_uri": "https://localhost:8080/",
          "height": 374
        },
        "outputId": "16eff694-7622-4c86-88b3-1678fc1a02dc"
      },
      "source": [
        "model.fit(x_train, y_train, epochs = 10, batch_size = 128)"
      ],
      "execution_count": 35,
      "outputs": [
        {
          "output_type": "stream",
          "text": [
            "Epoch 1/10\n",
            "196/196 [==============================] - 76s 387ms/step - loss: 0.4832 - accuracy: 0.7697\n",
            "Epoch 2/10\n",
            "196/196 [==============================] - 81s 414ms/step - loss: 0.2934 - accuracy: 0.8819\n",
            "Epoch 3/10\n",
            "196/196 [==============================] - 76s 386ms/step - loss: 0.2337 - accuracy: 0.9109\n",
            "Epoch 4/10\n",
            "196/196 [==============================] - 75s 384ms/step - loss: 0.1854 - accuracy: 0.9296\n",
            "Epoch 5/10\n",
            "196/196 [==============================] - 75s 382ms/step - loss: 0.1512 - accuracy: 0.9447\n",
            "Epoch 6/10\n",
            "196/196 [==============================] - 75s 382ms/step - loss: 0.1222 - accuracy: 0.9564\n",
            "Epoch 7/10\n",
            "196/196 [==============================] - 75s 383ms/step - loss: 0.1033 - accuracy: 0.9642\n",
            "Epoch 8/10\n",
            "196/196 [==============================] - 74s 380ms/step - loss: 0.0801 - accuracy: 0.9719\n",
            "Epoch 9/10\n",
            "196/196 [==============================] - 74s 379ms/step - loss: 0.0603 - accuracy: 0.9798\n",
            "Epoch 10/10\n",
            "196/196 [==============================] - 75s 383ms/step - loss: 0.0463 - accuracy: 0.9843\n"
          ],
          "name": "stdout"
        },
        {
          "output_type": "execute_result",
          "data": {
            "text/plain": [
              "<tensorflow.python.keras.callbacks.History at 0x7fd80158c9e8>"
            ]
          },
          "metadata": {
            "tags": []
          },
          "execution_count": 35
        }
      ]
    },
    {
      "cell_type": "code",
      "metadata": {
        "id": "1uEbtCzDGjT9",
        "colab_type": "code",
        "colab": {
          "base_uri": "https://localhost:8080/",
          "height": 34
        },
        "outputId": "ac099ec8-156b-4261-d748-c43ad4fd5c77"
      },
      "source": [
        "loss, accuracy = model.evaluate(x_test, y_test)"
      ],
      "execution_count": 36,
      "outputs": [
        {
          "output_type": "stream",
          "text": [
            "782/782 [==============================] - 27s 34ms/step - loss: 0.7332 - accuracy: 0.8233\n"
          ],
          "name": "stdout"
        }
      ]
    },
    {
      "cell_type": "code",
      "metadata": {
        "id": "V-sh_TWhG09F",
        "colab_type": "code",
        "colab": {
          "base_uri": "https://localhost:8080/",
          "height": 34
        },
        "outputId": "0a50d914-ba91-46d1-c547-d421208bf984"
      },
      "source": [
        "accuracy * 100"
      ],
      "execution_count": 37,
      "outputs": [
        {
          "output_type": "execute_result",
          "data": {
            "text/plain": [
              "82.33199715614319"
            ]
          },
          "metadata": {
            "tags": []
          },
          "execution_count": 37
        }
      ]
    },
    {
      "cell_type": "code",
      "metadata": {
        "id": "uRWp1FwiJmxu",
        "colab_type": "code",
        "colab": {}
      },
      "source": [
        ""
      ],
      "execution_count": 0,
      "outputs": []
    }
  ]
}